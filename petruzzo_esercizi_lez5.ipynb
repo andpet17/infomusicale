{
 "cells": [
  {
   "cell_type": "markdown",
   "metadata": {
    "heading_collapsed": true
   },
   "source": [
    "# Esercizio"
   ]
  },
  {
   "cell_type": "markdown",
   "metadata": {
    "hidden": true
   },
   "source": [
    "Stampare la tabellina del 5, un valore alla volta.  \n",
    "Usare un ciclo **for** in combinazione con l'oggetto **range**."
   ]
  },
  {
   "cell_type": "code",
   "execution_count": 1,
   "metadata": {
    "ExecuteTime": {
     "end_time": "2021-02-25T21:32:14.410672Z",
     "start_time": "2021-02-25T21:32:14.404510Z"
    },
    "hidden": true
   },
   "outputs": [
    {
     "name": "stdout",
     "output_type": "stream",
     "text": [
      "5\n",
      "10\n",
      "15\n",
      "20\n",
      "25\n",
      "30\n",
      "35\n",
      "40\n",
      "45\n",
      "50\n"
     ]
    }
   ],
   "source": [
    "# svolgimento\n",
    "n = 5\n",
    "x = 5*10+n\n",
    "\n",
    "for numero in range(n, x, n):\n",
    "    print(numero)"
   ]
  },
  {
   "cell_type": "markdown",
   "metadata": {
    "heading_collapsed": true
   },
   "source": [
    "# Esercizio"
   ]
  },
  {
   "cell_type": "markdown",
   "metadata": {
    "hidden": true
   },
   "source": [
    "Data la stringa `star` sottostante eseguire i due compiti seguenti: \n",
    "1. contare le parole\n",
    "2. creare una lista con le sole parole formate da più di 4 caratteri"
   ]
  },
  {
   "cell_type": "code",
   "execution_count": 33,
   "metadata": {
    "ExecuteTime": {
     "end_time": "2021-02-25T21:47:06.809630Z",
     "start_time": "2021-02-25T21:47:06.802498Z"
    },
    "hidden": true
   },
   "outputs": [],
   "source": [
    "star = \"\"\"\"Non mi piace la sabbia.\n",
    "È granulosa, ruvida, irrita la pelle e si infila dappertutto.\"\"\""
   ]
  },
  {
   "cell_type": "code",
   "execution_count": 34,
   "metadata": {
    "ExecuteTime": {
     "end_time": "2021-02-25T21:49:41.720032Z",
     "start_time": "2021-02-25T21:49:41.713205Z"
    },
    "hidden": true
   },
   "outputs": [
    {
     "name": "stdout",
     "output_type": "stream",
     "text": [
      "0\n",
      "1\n",
      "2\n",
      "3\n",
      "4\n"
     ]
    }
   ],
   "source": [
    "# svolgimento\n",
    "for parola in range(0,5):\n",
    "    print(parola)\n",
    "    \n"
   ]
  },
  {
   "cell_type": "markdown",
   "metadata": {
    "heading_collapsed": true
   },
   "source": [
    "# Esercizio"
   ]
  },
  {
   "cell_type": "markdown",
   "metadata": {
    "ExecuteTime": {
     "end_time": "2021-02-25T22:10:33.055881Z",
     "start_time": "2021-02-25T22:10:33.050646Z"
    },
    "hidden": true
   },
   "source": [
    "Creare una lista con i primi 50 numeri naturali e poi stampare la sua inversione.   \n",
    "I primi 50 numeri naturali sono 1, 2, 3, ... , 49, 50   \n",
    "La sua inversione sarà: 50, 49, 48, ..., 3, 2, 1"
   ]
  },
  {
   "cell_type": "code",
   "execution_count": 125,
   "metadata": {
    "ExecuteTime": {
     "end_time": "2021-02-25T22:13:51.099983Z",
     "start_time": "2021-02-25T22:13:51.095318Z"
    },
    "hidden": true,
    "scrolled": true
   },
   "outputs": [
    {
     "name": "stdout",
     "output_type": "stream",
     "text": [
      "[50, 49, 48, 47, 46, 45, 44, 43, 42, 41, 40, 39, 38, 37, 36, 35, 34, 33, 32, 31, 30, 29, 28, 27, 26, 25, 24, 23, 22, 21, 20, 19, 18, 17, 16, 15, 14, 13, 12, 11, 10, 9, 8, 7, 6, 5, 4, 3, 2, 1]\n"
     ]
    }
   ],
   "source": [
    "# svolgimento\n",
    "naturali = [1, 2, 3, 4, 5, 6, 7, 8, 9, 10, 11, 12, 13, 14, 15, 16, 17, 18, 19, 20, 21, 22, 23, 24, 25, 26, 27, 28, 29, 30, 31,\n",
    "            32, 33, 34, 35, 36, 37, 38, 39, 40, 41, 42, 43, 44, 45, 46, 47, 48, 49, 50]\n",
    "print(naturali[::-1])\n"
   ]
  },
  {
   "cell_type": "markdown",
   "metadata": {
    "heading_collapsed": true
   },
   "source": [
    "# Esercizio"
   ]
  },
  {
   "cell_type": "markdown",
   "metadata": {
    "ExecuteTime": {
     "end_time": "2021-02-25T22:19:59.789698Z",
     "start_time": "2021-02-25T22:19:59.784960Z"
    },
    "hidden": true
   },
   "source": [
    "Creare una lista con i quadrati dei primi 20 numeri naturali (da 1 a 20, incluso).  \n",
    "Output atteso: \n",
    "\n",
    "    [1, 4, 9, 16, 25, 36, 49, 64, 81, 100, 121, 144, 169, 196, 225, 256, 289, 324, 361, 400]"
   ]
  },
  {
   "cell_type": "code",
   "execution_count": 152,
   "metadata": {
    "ExecuteTime": {
     "end_time": "2021-02-25T22:22:02.325278Z",
     "start_time": "2021-02-25T22:22:02.322869Z"
    },
    "hidden": true
   },
   "outputs": [
    {
     "name": "stdout",
     "output_type": "stream",
     "text": [
      "[1, 4, 9, 16, 25, 36, 49, 64, 81, 100, 121, 144, 169, 196, 225, 256, 289, 324, 361, 400]\n"
     ]
    }
   ],
   "source": [
    "# svolgimento\n",
    "quadrati = [1, 2, 3, 4, 5, 6, 7, 8, 9, 10, 11, 12, 13, 14, 15, 16, 17, 18, 19, 20]\n",
    "lista_quadrati = []\n",
    "for numero in quadrati:\n",
    "    quadrato = numero * numero\n",
    "    lista_quadrati.append(quadrato)\n",
    "   \n",
    "print(lista_quadrati)\n",
    "\n",
    "\n",
    "\n",
    "\n",
    "    \n",
    "    \n",
    "    \n",
    "    "
   ]
  },
  {
   "cell_type": "markdown",
   "metadata": {
    "heading_collapsed": true
   },
   "source": [
    "# Esercizio"
   ]
  },
  {
   "cell_type": "markdown",
   "metadata": {
    "hidden": true
   },
   "source": [
    "Qui di seguito c'è una lista dei nomi e cognomi di compositori del XX secolo. Eseguire i seguenti task:  \n",
    "1. Contare gli elementi della lista\n",
    "2. Mettere la lista in ordine alfabetico (usare *sort()*)\n",
    "3. Creare una lista con i soli compositori la cua iniziale è 'S'"
   ]
  },
  {
   "cell_type": "code",
   "execution_count": 12,
   "metadata": {
    "ExecuteTime": {
     "end_time": "2021-02-25T23:26:38.655985Z",
     "start_time": "2021-02-25T23:26:38.622443Z"
    },
    "hidden": true
   },
   "outputs": [],
   "source": [
    "composers = ['Head, Michael Dewar',\n",
    " 'Weill, Kurt',\n",
    " 'Copland, Aaron',\n",
    " 'Apostel, Hans Erich',\n",
    " 'Poot, Marcel',\n",
    " 'Rubbra, Edmund',\n",
    " 'Finzi, Gerald',\n",
    " 'Rodrigo, Joaquín',\n",
    " 'Durufle, Maurice',\n",
    " 'Walton, Sir William Turner',\n",
    " 'Joseph, William',\n",
    " 'Rodgers, Richard',\n",
    " 'Berkeley, Sir Lennox',\n",
    " \"Khachaturian, Aram Il'yich\",\n",
    " 'Giannini, Vittorio',\n",
    " 'Antill, John',\n",
    " 'Addinsell, Richard',\n",
    " 'Kabalevsky, Dmitri Borisovich',\n",
    " 'Milstein, Nathan',\n",
    " 'Tippett, Sir Michael Kemp',\n",
    " 'Halffter, Ernesto',\n",
    " 'Bozza, Eugene',\n",
    " 'Rawsthorne, Alan',\n",
    " 'Seiber, Matyas',\n",
    " 'Tubin, Eduard',\n",
    " 'Sternefeld, Daniel',\n",
    " 'Wiren, Dag Ivar',\n",
    " 'Alwyn, William',\n",
    " 'Frankel, Benjamin',\n",
    " 'Shostakovich, Dmitri',\n",
    " 'Creston, Paul',\n",
    " 'Guarnieri, Mozart Camargo',\n",
    " 'Maconchy, Elizabeth',\n",
    " 'Rózsa, Miklós',\n",
    " 'Partos, Oedoen',\n",
    " 'Perkins, Frank',\n",
    " 'Distler, Hugo',\n",
    " 'Ferguson, Howard',\n",
    " 'Messiaen, Olivier',\n",
    " 'Constantinescu, Paul',\n",
    " 'Holmboe, Vagn',\n",
    " 'Chajes, Julius',\n",
    " 'Barber, Samuel',\n",
    " 'Reed, H. Owen',\n",
    " 'Binge, Ronald',\n",
    " 'Schuman, William Howard',\n",
    " 'Glaser, Werner Wolf',\n",
    " 'Elenescu, Emanuel',\n",
    " 'Alain, Jehan',\n",
    " 'Hovhaness, Alan',\n",
    " 'Herrmann, Bernard',\n",
    " 'Menotti, Gian Carlo',\n",
    " 'Pettersson, Gustav Allan',\n",
    " 'Guastavino, Carlos',\n",
    " 'Françaix, Jean',\n",
    " 'Joio, Norman Dello',\n",
    " 'Lutoslavski, Witold',\n",
    " 'Lloyd, George',\n",
    " 'Britten, Lord Benjamin',\n",
    " 'Gould, Morton',\n",
    " 'Webber, William Southcombe Lloyd',\n",
    " 'Truscott, Harold',\n",
    " 'Surinach, Carlos',\n",
    " 'Diamond, David',\n",
    " 'Lilburn, Douglas',\n",
    " 'Dutilleux, Henri',\n",
    " 'Stevens, Bernard',\n",
    " 'Ginastera, Alberto',\n",
    " 'Farnon, Robert Joseph',\n",
    " 'Zimmermann, Bernd Alois',\n",
    " 'Rochberg, George',\n",
    " 'Bernstein, Leonard',\n",
    " 'Nelhybel, Vaclav',\n",
    " 'Weinberg, Mieczysław',\n",
    " 'Basarab, Mircea',\n",
    " 'Simpson, Robert',\n",
    " 'Nixon, Roger',\n",
    " 'Arnold, Malcolm',\n",
    " 'Petit, Pierre',\n",
    " 'Raid, Kaljo',\n",
    " 'Williams, James Clifton',\n",
    " 'Mennin, Peter',\n",
    " 'Braun, Günter',\n",
    " 'Presti, Ida',\n",
    " 'Tomlinson, Ernest',\n",
    " 'Lamb, Peter',\n",
    " 'Mechem, Kirke',\n",
    " 'Orbon, Julian',\n",
    " 'Jirko, Ivan',\n",
    " 'Gielen, Michael',\n",
    " 'Muczynski, Robert',\n",
    " 'Matton, Roger',\n",
    " 'Leighton, Kenneth',\n",
    " 'Nelson, Ron',\n",
    " 'Tormis, Veljo',\n",
    " 'Shchedrin, Rodion Konstantinovich',\n",
    " 'Gorecki, Henryk Mikolaj',\n",
    " 'McLeod, John',\n",
    " 'Mathias, William',\n",
    " 'Schnittke, Alfred',\n",
    " 'Part, Arvo',\n",
    " 'Maw, Nicholas',\n",
    " 'Kymlicka, Milan',\n",
    " 'Bennett, Richard Rodney',\n",
    " 'Nobre, Marlos',\n",
    " 'Bruzdowicz, Joanna',\n",
    " 'Holloway, Robin',\n",
    " 'Tavener, John',\n",
    " 'Rutter, John',\n",
    " 'Tabakov, Emil',\n",
    " 'Webber, Andrew Lloyd',\n",
    " 'Gallant, Pierre',\n",
    " 'Febel, Reinhard',\n",
    " 'Saxton, Robert']"
   ]
  },
  {
   "cell_type": "code",
   "execution_count": 170,
   "metadata": {
    "ExecuteTime": {
     "end_time": "2021-02-25T23:14:21.810048Z",
     "start_time": "2021-02-25T23:14:21.801566Z"
    },
    "hidden": true
   },
   "outputs": [
    {
     "name": "stdout",
     "output_type": "stream",
     "text": [
      "Il numero totale di compositori è 114\n",
      "\n",
      "\n",
      "In ordina alfabetico la lista risulta così :\n",
      "\n",
      "['Addinsell, Richard', 'Alain, Jehan', 'Alwyn, William', 'Antill, John', 'Apostel, Hans Erich', 'Arnold, Malcolm', 'Barber, Samuel', 'Basarab, Mircea', 'Bennett, Richard Rodney', 'Berkeley, Sir Lennox', 'Bernstein, Leonard', 'Binge, Ronald', 'Bozza, Eugene', 'Braun, Günter', 'Britten, Lord Benjamin', 'Bruzdowicz, Joanna', 'Chajes, Julius', 'Constantinescu, Paul', 'Copland, Aaron', 'Creston, Paul', 'Diamond, David', 'Distler, Hugo', 'Durufle, Maurice', 'Dutilleux, Henri', 'Elenescu, Emanuel', 'Farnon, Robert Joseph', 'Febel, Reinhard', 'Ferguson, Howard', 'Finzi, Gerald', 'Frankel, Benjamin', 'Françaix, Jean', 'Gallant, Pierre', 'Giannini, Vittorio', 'Gielen, Michael', 'Ginastera, Alberto', 'Glaser, Werner Wolf', 'Gorecki, Henryk Mikolaj', 'Gould, Morton', 'Guarnieri, Mozart Camargo', 'Guastavino, Carlos', 'Halffter, Ernesto', 'Head, Michael Dewar', 'Herrmann, Bernard', 'Holloway, Robin', 'Holmboe, Vagn', 'Hovhaness, Alan', 'Jirko, Ivan', 'Joio, Norman Dello', 'Joseph, William', 'Kabalevsky, Dmitri Borisovich', \"Khachaturian, Aram Il'yich\", 'Kymlicka, Milan', 'Lamb, Peter', 'Leighton, Kenneth', 'Lilburn, Douglas', 'Lloyd, George', 'Lutoslavski, Witold', 'Maconchy, Elizabeth', 'Mathias, William', 'Matton, Roger', 'Maw, Nicholas', 'McLeod, John', 'Mechem, Kirke', 'Mennin, Peter', 'Menotti, Gian Carlo', 'Messiaen, Olivier', 'Milstein, Nathan', 'Muczynski, Robert', 'Nelhybel, Vaclav', 'Nelson, Ron', 'Nixon, Roger', 'Nobre, Marlos', 'Orbon, Julian', 'Part, Arvo', 'Partos, Oedoen', 'Perkins, Frank', 'Petit, Pierre', 'Pettersson, Gustav Allan', 'Poot, Marcel', 'Presti, Ida', 'Raid, Kaljo', 'Rawsthorne, Alan', 'Reed, H. Owen', 'Rochberg, George', 'Rodgers, Richard', 'Rodrigo, Joaquín', 'Rubbra, Edmund', 'Rutter, John', 'Rózsa, Miklós', 'Saxton, Robert', 'Schnittke, Alfred', 'Schuman, William Howard', 'Seiber, Matyas', 'Shchedrin, Rodion Konstantinovich', 'Shostakovich, Dmitri', 'Simpson, Robert', 'Sternefeld, Daniel', 'Stevens, Bernard', 'Surinach, Carlos', 'Tabakov, Emil', 'Tavener, John', 'Tippett, Sir Michael Kemp', 'Tomlinson, Ernest', 'Tormis, Veljo', 'Truscott, Harold', 'Tubin, Eduard', 'Walton, Sir William Turner', 'Webber, Andrew Lloyd', 'Webber, William Southcombe Lloyd', 'Weill, Kurt', 'Weinberg, Mieczysław', 'Williams, James Clifton', 'Wiren, Dag Ivar', 'Zimmermann, Bernd Alois']\n",
      "\n",
      "I compositori quali nomi iniziano per 'S' sono :\n",
      "\n",
      "Seiber, Matyas\n",
      "Sternefeld, Daniel\n",
      "Shostakovich, Dmitri\n",
      "Schuman, William Howard\n",
      "Surinach, Carlos\n",
      "Stevens, Bernard\n",
      "Simpson, Robert\n",
      "Shchedrin, Rodion Konstantinovich\n",
      "Schnittke, Alfred\n",
      "Saxton, Robert\n"
     ]
    }
   ],
   "source": [
    "# svolgimento\n",
    "\n",
    "# numero di compositori\n",
    "nr_composers = len(composers)\n",
    "print(f\"Il numero totale di compositori è {nr_composers}\\n\")\n",
    "\n",
    "\n",
    "# lista in ordine alfabetico\n",
    "ordine = sorted(composers)\n",
    "print(f\"\\nIn ordina alfabetico la lista risulta così :\\n\\n{ordine}\")\n",
    "\n",
    "# lista iniziale \"S\"\n",
    "print(\"\\nI compositori quali nomi iniziano per 'S' sono :\\n\")\n",
    "for nome_s in composers:\n",
    "    if \"S\" in nome_s[0]:\n",
    "        print(nome_s)\n",
    "\n",
    "\n",
    "\n",
    "        \n",
    "    "
   ]
  },
  {
   "cell_type": "markdown",
   "metadata": {
    "heading_collapsed": true
   },
   "source": [
    "# Esercizio"
   ]
  },
  {
   "cell_type": "markdown",
   "metadata": {
    "hidden": true
   },
   "source": [
    "Data la lista di nome `lista`, cercare il valore 20 e, se presente, sostituirlo con il valore 200"
   ]
  },
  {
   "cell_type": "code",
   "execution_count": 53,
   "metadata": {
    "ExecuteTime": {
     "end_time": "2021-02-25T23:31:54.228726Z",
     "start_time": "2021-02-25T23:31:54.224568Z"
    },
    "hidden": true
   },
   "outputs": [],
   "source": [
    "lista = [5, 10, 15, 20, 25, 50]"
   ]
  },
  {
   "cell_type": "code",
   "execution_count": 54,
   "metadata": {
    "ExecuteTime": {
     "end_time": "2021-02-25T23:32:04.767176Z",
     "start_time": "2021-02-25T23:32:04.764423Z"
    },
    "hidden": true
   },
   "outputs": [
    {
     "data": {
      "text/plain": [
       "[5, 10, 15, 200, 25, 50]"
      ]
     },
     "execution_count": 54,
     "metadata": {},
     "output_type": "execute_result"
    }
   ],
   "source": [
    "# svolgimento\n",
    "lista.index(20)\n",
    "lista[3] = 200\n",
    "lista"
   ]
  },
  {
   "cell_type": "markdown",
   "metadata": {
    "heading_collapsed": true
   },
   "source": [
    "# Esercizio"
   ]
  },
  {
   "cell_type": "markdown",
   "metadata": {
    "ExecuteTime": {
     "end_time": "2021-02-26T16:22:16.826128Z",
     "start_time": "2021-02-26T16:22:16.822182Z"
    },
    "hidden": true
   },
   "source": [
    "Calcolare la media aritmetica e la mediana dei valori della lista `values`.  \n",
    "La **media** si calcola con la seguente formula:  \n",
    "\n",
    "$$M_a = \\frac{1}{n}\\sum_{i=1}^{n} x_i$$   \n",
    "\n",
    "cioè la somma di tutti gli elementi della lista, diviso per il numero degli elementi della lista.\n",
    "\n",
    "La **mediana** si calcola in questo modo:\n",
    "1. Si ordinano gli elementi della lista in ordine crescente\n",
    "2. Se il numero degli elementi è dispari, la mediana corrisponde al valore che sta esattamente nel mezzo della lista ordinata\n",
    "3. Se il numero degli elementi è pari, la mediana corrisponde alla media aritmetica dei due valori centrali della lista ordinata\n",
    "\n",
    "Ricordare che: \n",
    "1. la funzione **sum()** restituisce la somma di tutti gli elementi di una lista \n",
    "2. la funzione **len()** restituisce il numero di elementi di una lista\n",
    "3. il metodo **sort()** orina la lista dal valore più piccolo al più grande"
   ]
  },
  {
   "cell_type": "code",
   "execution_count": 55,
   "metadata": {
    "ExecuteTime": {
     "end_time": "2021-02-26T16:40:05.174815Z",
     "start_time": "2021-02-26T16:40:05.168364Z"
    },
    "hidden": true
   },
   "outputs": [],
   "source": [
    "values = [771, 856, 211, 702, 601, 432, 122, 484, 903, 808, 232, 336, 622, 19, 252, 235, 47, 649, 193, 479, \n",
    "          211, 950, 589, 254, 763, 350, 428, 237, 570, 662, 624, 234, 161, 407, 163, 757, 251, 296, 712, 160, \n",
    "          66, 476, 102, 172, 697, 799, 701, 596, 983, 641, 205, 569, 712, 734, 331, 238, 861, 268, 893, 396, \n",
    "          267, 772, 318, 80, 349, 228, 810, 571, 761, 338, 125, 288, 86, 705, 600, 889, 366, 40, 202, 256, \n",
    "          988, 124, 976, 714, 424, 605, 962, 1, 538, 356, 493, 725, 43, 339, 13, 18, 206, 287, 521, 548, 612]"
   ]
  },
  {
   "cell_type": "code",
   "execution_count": 91,
   "metadata": {
    "ExecuteTime": {
     "end_time": "2021-02-26T16:43:25.781318Z",
     "start_time": "2021-02-26T16:43:25.779073Z"
    },
    "hidden": true
   },
   "outputs": [
    {
     "ename": "SyntaxError",
     "evalue": "invalid syntax (<ipython-input-91-f3762068ae65>, line 11)",
     "output_type": "error",
     "traceback": [
      "\u001b[1;36m  File \u001b[1;32m\"<ipython-input-91-f3762068ae65>\"\u001b[1;36m, line \u001b[1;32m11\u001b[0m\n\u001b[1;33m    print(f\"Il numero degli elementi è pari, quindi la mediana è {mediana_se_pari}\")\u001b[0m\n\u001b[1;37m    ^\u001b[0m\n\u001b[1;31mSyntaxError\u001b[0m\u001b[1;31m:\u001b[0m invalid syntax\n"
     ]
    }
   ],
   "source": [
    "# svolgimento\n",
    "somma = sum(values)\n",
    "lunghezza = len(values)\n",
    "media = somma // lunghezza\n",
    "print(f\"La media è {media}\")\n",
    "\n",
    "lista_ordinata = sorted(values)\n",
    "mezzo = lunghezza / 2\n",
    "if lunghezza%2 == 0:\n",
    "    mediana_se_pari = (values(lista_ordinata[mezzo+1])) + (values(lista_ordinata[mezzo+2]) / 2\n",
    "    print(f\"Il numero degli elementi è pari, quindi la mediana è {mediana_se_pari}\")\n",
    "else:\n",
    "    mediana_se_dispari = (values(lista_ordinata[mezzo+1]))\n",
    "        print(f\"Il numero degli elementi è dispari, quindi la mediana è {mediana_se_dispari}\")"
   ]
  },
  {
   "cell_type": "markdown",
   "metadata": {
    "heading_collapsed": true
   },
   "source": [
    "# Esercizio"
   ]
  },
  {
   "cell_type": "markdown",
   "metadata": {
    "hidden": true
   },
   "source": [
    "Data la lista `frasi`, contenente delle stringhe, calcolare la media della lunghezza delle stringhe"
   ]
  },
  {
   "cell_type": "code",
   "execution_count": 192,
   "metadata": {
    "ExecuteTime": {
     "end_time": "2021-02-26T17:03:10.958673Z",
     "start_time": "2021-02-26T17:03:10.955821Z"
    },
    "hidden": true
   },
   "outputs": [],
   "source": [
    "frasi = [\n",
    "    \"Tutto quanto procede come avevo previsto\",\n",
    "    \"Sia come vuoi, Jedi!\",\n",
    "    \"Se non ti vuoi convertire, allora sarai distrutto!\",\n",
    "    \"Giovane stolto: solo ora, alla fine, acquisti la ragione!\",\n",
    "    \"Hai lavorato bene, Lord Vader. E ora sento che desideri continuare la ricerca del giovane Skywalker.\",\n",
    "    \"Avete fallito, Altezza. Sono uno Jedi, come mio padre prima di me!\",\n",
    "    \"Disattiveranno quello scudo in tempo. O questo sarà l'attacco più breve di tutti i tempi.\"\n",
    "]"
   ]
  },
  {
   "cell_type": "code",
   "execution_count": 226,
   "metadata": {},
   "outputs": [
    {
     "data": {
      "text/plain": [
       "\"Tutto quanto procede come avevo previsto Sia come vuoi, Jedi! Se non ti vuoi convertire, allora sarai distrutto! Giovane stolto: solo ora, alla fine, acquisti la ragione! Hai lavorato bene, Lord Vader. E ora sento che desideri continuare la ricerca del giovane Skywalker. Avete fallito, Altezza. Sono uno Jedi, come mio padre prima di me! Disattiveranno quello scudo in tempo. O questo sarà l'attacco più breve di tutti i tempi.\""
      ]
     },
     "execution_count": 226,
     "metadata": {},
     "output_type": "execute_result"
    }
   ],
   "source": [
    "# svolgimento\n",
    "def \n"
   ]
  },
  {
   "cell_type": "code",
   "execution_count": 227,
   "metadata": {},
   "outputs": [
    {
     "data": {
      "text/plain": [
       "7"
      ]
     },
     "execution_count": 227,
     "metadata": {},
     "output_type": "execute_result"
    }
   ],
   "source": [
    "len(frasi)"
   ]
  },
  {
   "cell_type": "code",
   "execution_count": null,
   "metadata": {},
   "outputs": [],
   "source": []
  }
 ],
 "metadata": {
  "kernelspec": {
   "display_name": "Python 3",
   "language": "python",
   "name": "python3"
  },
  "language_info": {
   "codemirror_mode": {
    "name": "ipython",
    "version": 3
   },
   "file_extension": ".py",
   "mimetype": "text/x-python",
   "name": "python",
   "nbconvert_exporter": "python",
   "pygments_lexer": "ipython3",
   "version": "3.8.5"
  },
  "toc": {
   "base_numbering": 1,
   "nav_menu": {},
   "number_sections": true,
   "sideBar": true,
   "skip_h1_title": false,
   "title_cell": "Table of Contents",
   "title_sidebar": "Contents",
   "toc_cell": false,
   "toc_position": {
    "height": "calc(100% - 180px)",
    "left": "10px",
    "top": "150px",
    "width": "165px"
   },
   "toc_section_display": true,
   "toc_window_display": true
  }
 },
 "nbformat": 4,
 "nbformat_minor": 4
}
